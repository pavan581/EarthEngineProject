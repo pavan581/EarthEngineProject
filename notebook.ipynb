{
 "cells": [
  {
   "cell_type": "markdown",
   "metadata": {
    "colab_type": "text",
    "id": "view-in-github"
   },
   "source": [
    "<a href=\"https://colab.research.google.com/github/pavan581/earth-git/blob/master/beta_veg.ipynb\" target=\"_parent\"><img src=\"https://colab.research.google.com/assets/colab-badge.svg\" alt=\"Open In Colab\"/></a>"
   ]
  },
  {
   "cell_type": "markdown",
   "metadata": {
    "id": "5K36dfI48kPy",
    "tags": []
   },
   "source": [
    "# Imports"
   ]
  },
  {
   "cell_type": "code",
   "execution_count": 3,
   "metadata": {
    "colab": {
     "base_uri": "https://localhost:8080/"
    },
    "id": "S6xI2FM2OwOv",
    "outputId": "73ac8b4c-9f9f-403a-d441-dbad7afb3dc3"
   },
   "outputs": [],
   "source": [
    "# Impotr and initialize Earth Engine\n",
    "import ee\n",
    "\n",
    "#ee.Authenticate()\n",
    "ee.Initialize()"
   ]
  },
  {
   "cell_type": "code",
   "execution_count": 4,
   "metadata": {
    "id": "pp3K2dQlO5Rz"
   },
   "outputs": [],
   "source": [
    "# GeoJSON to work with GeoJson Files\n",
    "import geojson\n",
    "\n",
    "# Libraries to plot maps\n",
    "import matplotlib.pyplot as plt\n",
    "from IPython.display import Image\n",
    "\n",
    "import folium\n",
    "from ipyleaflet import GeoJSON\n",
    "import geemap\n",
    "\n",
    "%matplotlib inline"
   ]
  },
  {
   "cell_type": "markdown",
   "metadata": {
    "jp-MarkdownHeadingCollapsed": true,
    "tags": []
   },
   "source": [
    "#### Run below cell in Colab Only"
   ]
  },
  {
   "cell_type": "code",
   "execution_count": null,
   "metadata": {
    "colab": {
     "base_uri": "https://localhost:8080/",
     "height": 1000
    },
    "id": "VFOO7hyCALTz",
    "jp-MarkdownHeadingCollapsed": true,
    "outputId": "8d19abc6-b930-4b87-eb53-97b1c0fcd738",
    "tags": []
   },
   "outputs": [],
   "source": [
    "!pip install geojson\n",
    "!pip install geemap\n",
    "\n",
    "# Git Repository of the Project\n",
    "!git clone https://github.com/pavan581/earth-git.git"
   ]
  },
  {
   "cell_type": "markdown",
   "metadata": {
    "id": "rPuuTENM9jUA",
    "tags": []
   },
   "source": [
    "# Data and Feature Import"
   ]
  },
  {
   "cell_type": "markdown",
   "metadata": {
    "tags": []
   },
   "source": [
    "#### Feature collection"
   ]
  },
  {
   "cell_type": "code",
   "execution_count": null,
   "metadata": {},
   "outputs": [],
   "source": [
    "dict_collec = ee.FeatureCollection('users/sairamg581/ap_districts')\n",
    "dict_feature = dict_collec.filter(\"DISTRICT == 'East Godavari'\")\n",
    "aoi = dict_feature.geometry()"
   ]
  },
  {
   "cell_type": "code",
   "execution_count": 5,
   "metadata": {},
   "outputs": [],
   "source": [
    "import geemap\n",
    "import requests as req"
   ]
  },
  {
   "cell_type": "code",
   "execution_count": null,
   "metadata": {},
   "outputs": [],
   "source": [
    "geemap.ee_export_vector(dict_feature, './zeta.shp')"
   ]
  },
  {
   "cell_type": "code",
   "execution_count": null,
   "metadata": {},
   "outputs": [],
   "source": [
    "img = ee.ImageCollection(\"COPERNICUS/S2_SR\")\\\n",
    "        .filterBounds(aoi)\\\n",
    "        .filterDate(ee.Date('2022-01-01'), ee.Date('2022-03-10'))\\\n",
    "        .filter(ee.Filter.lt('CLOUDY_PIXEL_PERCENTAGE', 5))\\\n",
    "        .mean()\\\n",
    "        .clip(aoi)"
   ]
  },
  {
   "cell_type": "markdown",
   "metadata": {
    "tags": []
   },
   "source": [
    "#### Map visualization"
   ]
  },
  {
   "cell_type": "code",
   "execution_count": null,
   "metadata": {},
   "outputs": [],
   "source": [
    "Map = geemap.Map()  # Add Google Satellite\n",
    "Map.setCenter(82.5, 17.2, zoom=8.5)\n",
    "Map"
   ]
  },
  {
   "cell_type": "code",
   "execution_count": null,
   "metadata": {},
   "outputs": [],
   "source": [
    "Map.addLayer(img, vizParams, 'AOI Geo')"
   ]
  },
  {
   "cell_type": "code",
   "execution_count": null,
   "metadata": {},
   "outputs": [],
   "source": [
    "url = img.select(['B4', 'B3', 'B2']).getThumbURL({'min':0, 'max':4000})\n",
    "Image(url=url, width=200)"
   ]
  },
  {
   "cell_type": "markdown",
   "metadata": {
    "id": "u4hqvMd4O_su",
    "tags": []
   },
   "source": [
    "#### Visualization parameters"
   ]
  },
  {
   "cell_type": "code",
   "execution_count": null,
   "metadata": {},
   "outputs": [],
   "source": [
    "#Define the visualization parameters.\n",
    "vizParams = {'bands': ['B4', 'B3', 'B2'], 'min': 0.0,'max': 4000}\n",
    "ndviParams = {'min': -1, 'max': 1, 'palette': ['yellow', 'white', 'green']}\n",
    "ndwiParams = {'min': -1, 'max': 1, 'palette': ['red', 'green', 'blue']}"
   ]
  },
  {
   "cell_type": "markdown",
   "metadata": {
    "tags": []
   },
   "source": [
    "#### NDVI"
   ]
  },
  {
   "cell_type": "code",
   "execution_count": null,
   "metadata": {},
   "outputs": [],
   "source": [
    "ndvi = img.normalizedDifference(['B8', 'B4'])\n",
    "Map.addLayer(ndvi, ndviParams, 'NDVI');"
   ]
  },
  {
   "cell_type": "markdown",
   "metadata": {
    "tags": []
   },
   "source": [
    "#### NDWI"
   ]
  },
  {
   "cell_type": "code",
   "execution_count": null,
   "metadata": {},
   "outputs": [],
   "source": [
    "ndwi = img.normalizedDifference(['B3', 'B8'])\n",
    "Map.addLayer(ndwi, ndwiParams, 'NDWI');"
   ]
  },
  {
   "cell_type": "markdown",
   "metadata": {
    "id": "09_JxoDj-9dU",
    "tags": []
   },
   "source": [
    "# Testing..."
   ]
  },
  {
   "cell_type": "markdown",
   "metadata": {},
   "source": [
    "Feature Area"
   ]
  },
  {
   "cell_type": "code",
   "execution_count": null,
   "metadata": {},
   "outputs": [],
   "source": [
    "area = aoi.area()\n",
    "\n",
    "totalAreaSqKm = ee.Number(area).divide(1e6).round().getInfo()\n",
    "print(totalAreaSqKm)"
   ]
  },
  {
   "cell_type": "markdown",
   "metadata": {},
   "source": [
    "Image area"
   ]
  },
  {
   "cell_type": "code",
   "execution_count": null,
   "metadata": {},
   "outputs": [],
   "source": [
    "areaImage = ndvi_met.multiply(ee.Image.pixelArea())\n",
    "area = areaImage.reduceRegion(reducer=ee.Reducer.sum(), geometry=aoi, scale=500, maxPixels=1e10)\n",
    "\n",
    "ndviAreaSqKm = ee.Number(area.get('nd')).divide(1e6).round().getInfo()\n",
    "print('Total NDVI Area: ', ndviAreaSqKm)"
   ]
  },
  {
   "cell_type": "code",
   "execution_count": null,
   "metadata": {},
   "outputs": [],
   "source": [
    "vegetation.getInfo()"
   ]
  },
  {
   "cell_type": "code",
   "execution_count": null,
   "metadata": {
    "tags": []
   },
   "outputs": [],
   "source": [
    "vegetation = ndvi.gt(0.45).selfMask()\n",
    "Map.addLayer(vegetation, {'palette': 'green'}, 'Vegetation')"
   ]
  },
  {
   "cell_type": "code",
   "execution_count": null,
   "metadata": {},
   "outputs": [],
   "source": [
    "vegetation = ndvi.gt(0).selfMask()\n",
    "water = ndwi.gt(0).selfMask()\n",
    "\n",
    "Map.addLayer(vegetation, {'palette': ['yellow', 'green']}, 'Vegetation')\n",
    "Map.addLayer(water, {'palette':['red', 'blue']}, 'Water')"
   ]
  },
  {
   "cell_type": "code",
   "execution_count": null,
   "metadata": {},
   "outputs": [],
   "source": [
    "areaImage = vegetation.multiply(ee.Image.pixelArea())\n",
    "area = areaImage.reduceRegion(reducer=ee.Reducer.sum(), geometry=aoi, scale=500, maxPixels=1e10)\n",
    "\n",
    "vegetation_area = ee.Number(area.get('nd')).divide(1e6).round().getInfo()\n",
    "print('Vegetation Area: ', vegetation_area)"
   ]
  },
  {
   "cell_type": "code",
   "execution_count": null,
   "metadata": {},
   "outputs": [],
   "source": [
    "areaImage = water.multiply(ee.Image.pixelArea())\n",
    "area = areaImage.reduceRegion(reducer=ee.Reducer.sum(), geometry=aoi, scale=500, maxPixels=1e10)\n",
    "\n",
    "water_area = ee.Number(area.get('nd')).divide(1e6).round().getInfo()\n",
    "print('Water Area: ', water_area)"
   ]
  },
  {
   "cell_type": "code",
   "execution_count": null,
   "metadata": {},
   "outputs": [],
   "source": [
    "geemap.ee_to_numpy(img)"
   ]
  },
  {
   "cell_type": "code",
   "execution_count": null,
   "metadata": {},
   "outputs": [],
   "source": [
    "geemap.ee_search()"
   ]
  },
  {
   "cell_type": "code",
   "execution_count": 6,
   "metadata": {},
   "outputs": [],
   "source": [
    "# Data manipulation\n",
    "# ==============================================================================\n",
    "import numpy as np\n",
    "import pandas as pd\n",
    "\n",
    "# Plots\n",
    "# ==============================================================================\n",
    "import matplotlib.pyplot as plt\n",
    "%matplotlib inline\n",
    "\n",
    "# Warnings configuration\n",
    "# ==============================================================================\n",
    "import warnings\n",
    "warnings.filterwarnings('ignore')"
   ]
  },
  {
   "cell_type": "code",
   "execution_count": 1,
   "metadata": {},
   "outputs": [],
   "source": [
    "# Modeling and Forecasting\n",
    "# ==============================================================================\n",
    "from sklearn.linear_model import LinearRegression\n",
    "from sklearn.linear_model import Lasso\n",
    "from sklearn.ensemble import RandomForestRegressor\n",
    "from sklearn.metrics import mean_squared_error\n",
    "from sklearn.preprocessing import StandardScaler\n",
    "from sklearn.pipeline import make_pipeline\n",
    "\n",
    "from skforecast.ForecasterAutoreg import ForecasterAutoreg\n",
    "from skforecast.ForecasterAutoregCustom import ForecasterAutoregCustom\n",
    "from skforecast.ForecasterAutoregMultiOutput import ForecasterAutoregMultiOutput\n",
    "from skforecast.model_selection import grid_search_forecaster\n",
    "from skforecast.model_selection import backtesting_forecaster\n",
    "\n",
    "from joblib import dump, load"
   ]
  },
  {
   "cell_type": "code",
   "execution_count": null,
   "metadata": {},
   "outputs": [],
   "source": [
    "# Data download\n",
    "# ==============================================================================\n",
    "url = 'https://raw.githubusercontent.com/JoaquinAmatRodrigo/skforecast/master/data/h2o_exog.csv'\n",
    "data = pd.read_csv(url, sep=',')"
   ]
  },
  {
   "cell_type": "code",
   "execution_count": null,
   "metadata": {},
   "outputs": [],
   "source": [
    "# Data preparation\n",
    "# ==============================================================================\n",
    "data = data.rename(columns={'fecha': 'date'})\n",
    "data['date'] = pd.to_datetime(data['date'], format='%Y/%m/%d')\n",
    "data = data.set_index('date')\n",
    "data = data.rename(columns={'x': 'y'})\n",
    "data = data.asfreq('MS')\n",
    "data = data.sort_index()\n",
    "data.head()"
   ]
  },
  {
   "cell_type": "code",
   "execution_count": null,
   "metadata": {},
   "outputs": [],
   "source": [
    "# Verify that a temporary index is complete\n",
    "# ==============================================================================\n",
    "(data.index == pd.date_range(start=data.index.min(),\n",
    "                             end=data.index.max(),\n",
    "                             freq=data.index.freq)).all()"
   ]
  },
  {
   "cell_type": "code",
   "execution_count": null,
   "metadata": {},
   "outputs": [],
   "source": [
    "# Split data into train-test\n",
    "# ==============================================================================\n",
    "steps = 36\n",
    "data_train = data[:-steps]\n",
    "data_test  = data[-steps:]\n",
    "\n",
    "fig, ax=plt.subplots(figsize=(9, 4))\n",
    "data_train['y'].plot(ax=ax, label='train')\n",
    "data_test['y'].plot(ax=ax, label='test')\n",
    "ax.legend();"
   ]
  },
  {
   "cell_type": "code",
   "execution_count": null,
   "metadata": {},
   "outputs": [],
   "source": [
    "# Create and train forecaster\n",
    "# ==============================================================================\n",
    "forecaster = ForecasterAutoreg(\n",
    "                regressor = RandomForestRegressor(random_state=123),\n",
    "                lags = 6\n",
    "                )\n",
    "\n",
    "forecaster.fit(y=data_train['y'])\n",
    "forecaster"
   ]
  },
  {
   "cell_type": "code",
   "execution_count": null,
   "metadata": {},
   "outputs": [],
   "source": [
    "# Predictions\n",
    "# ==============================================================================\n",
    "steps = 36\n",
    "predictions = forecaster.predict(steps=steps)\n",
    "predictions.head()"
   ]
  },
  {
   "cell_type": "code",
   "execution_count": null,
   "metadata": {},
   "outputs": [],
   "source": [
    "predictions"
   ]
  },
  {
   "cell_type": "code",
   "execution_count": null,
   "metadata": {},
   "outputs": [],
   "source": [
    "# Plot\n",
    "# ==============================================================================\n",
    "fig, ax = plt.subplots(figsize=(9, 4))\n",
    "data_train['y'].plot(ax=ax, label='train')\n",
    "data_test['y'].plot(ax=ax, label='test')\n",
    "predictions.plot(ax=ax, label='predictions')\n",
    "ax.legend();"
   ]
  },
  {
   "cell_type": "code",
   "execution_count": null,
   "metadata": {},
   "outputs": [],
   "source": [
    "# Error\n",
    "# ==============================================================================\n",
    "error_mse = mean_squared_error(\n",
    "                y_true = data_test['y'],\n",
    "                y_pred = predictions\n",
    "                )\n",
    "print(f\"Test error (mse): {error_mse}\")"
   ]
  },
  {
   "cell_type": "code",
   "execution_count": null,
   "metadata": {},
   "outputs": [],
   "source": [
    "# Hyperparameter Grid search\n",
    "# ==============================================================================\n",
    "forecaster = ForecasterAutoreg(\n",
    "                regressor = RandomForestRegressor(random_state=123),\n",
    "                lags      = 12 # This value will be replaced in the grid search\n",
    "                )\n",
    "\n",
    "# Regressor's hyperparameters\n",
    "param_grid = {'n_estimators': [100, 500],\n",
    "              'max_depth': [3, 5, 10]}\n",
    "\n",
    "# Lags used as predictors\n",
    "lags_grid = [10, 20]\n",
    "\n",
    "results_grid = grid_search_forecaster(\n",
    "                        forecaster         = forecaster,\n",
    "                        y                  = data_train['y'],\n",
    "                        param_grid         = param_grid,\n",
    "                        lags_grid          = lags_grid,\n",
    "                        steps              = 10,\n",
    "                        refit              = True,\n",
    "                        metric             = 'mean_squared_error',\n",
    "                        initial_train_size = int(len(data_train)*0.5),\n",
    "                        return_best        = True,\n",
    "                        verbose            = False\n",
    "                        )"
   ]
  },
  {
   "cell_type": "code",
   "execution_count": null,
   "metadata": {},
   "outputs": [],
   "source": [
    "# Grid Search results\n",
    "# ==============================================================================\n",
    "results_grid"
   ]
  },
  {
   "cell_type": "code",
   "execution_count": null,
   "metadata": {},
   "outputs": [],
   "source": [
    "# Create and train forecaster with the best hyperparameters\n",
    "# ==============================================================================\n",
    "regressor = RandomForestRegressor(max_depth=3, n_estimators=500, random_state=123)\n",
    "\n",
    "forecaster = ForecasterAutoreg(\n",
    "                regressor = regressor,\n",
    "                lags      = 20\n",
    "                )\n",
    "\n",
    "forecaster.fit(y=data_train['y'])"
   ]
  },
  {
   "cell_type": "code",
   "execution_count": null,
   "metadata": {},
   "outputs": [],
   "source": [
    "# Predictions\n",
    "# ==============================================================================\n",
    "predictions = forecaster.predict(steps=steps)"
   ]
  },
  {
   "cell_type": "code",
   "execution_count": null,
   "metadata": {},
   "outputs": [],
   "source": [
    "# Plot\n",
    "# ==============================================================================\n",
    "fig, ax = plt.subplots(figsize=(9, 4))\n",
    "data_train['y'].plot(ax=ax, label='train')\n",
    "data_test['y'].plot(ax=ax, label='test')\n",
    "predictions.plot(ax=ax, label='predictions')\n",
    "ax.legend();"
   ]
  },
  {
   "cell_type": "code",
   "execution_count": null,
   "metadata": {},
   "outputs": [],
   "source": []
  },
  {
   "cell_type": "code",
   "execution_count": null,
   "metadata": {},
   "outputs": [],
   "source": []
  },
  {
   "cell_type": "code",
   "execution_count": null,
   "metadata": {},
   "outputs": [],
   "source": []
  },
  {
   "cell_type": "markdown",
   "metadata": {
    "tags": []
   },
   "source": [
    "# Old"
   ]
  },
  {
   "cell_type": "code",
   "execution_count": null,
   "metadata": {},
   "outputs": [],
   "source": [
    "data = req.get('https://raw.githubusercontent.com/pavan581/earth-git/master/2011_Dist.json').json()\n",
    "\n",
    "for dist in data['features']:\n",
    "    if dist[\"properties\"][\"DISTRICT\"] == 'East Godavari':\n",
    "        aoi_data = dist\n",
    "        break\n",
    "\n",
    "aoi_coords = aoi_data[\"geometry\"][\"coordinates\"]\n",
    "aoi = ee.Geometry.Polygon(aoi_coords)"
   ]
  },
  {
   "cell_type": "code",
   "execution_count": 9,
   "metadata": {},
   "outputs": [],
   "source": [
    "images = []"
   ]
  },
  {
   "cell_type": "code",
   "execution_count": 10,
   "metadata": {},
   "outputs": [
    {
     "name": "stdout",
     "output_type": "stream",
     "text": [
      "INFO : Earth Engine Initialized.\n",
      "Area of East Godavari District : 10880 Sq.Kms\n",
      "here 1\n",
      "Image.normalizedDifference: No band named 'B8'. Available band names: [].--1--2018\n",
      "here 1\n",
      "Image.normalizedDifference: No band named 'B8'. Available band names: [].--2--2018\n",
      "here 1\n",
      "Image.normalizedDifference: No band named 'B8'. Available band names: [].--3--2018\n",
      "here 1\n",
      "Image.normalizedDifference: No band named 'B8'. Available band names: [].--4--2018\n",
      "here 1\n",
      "Image.normalizedDifference: No band named 'B8'. Available band names: [].--5--2018\n",
      "here 1\n",
      "Image.normalizedDifference: No band named 'B8'. Available band names: [].--6--2018\n",
      "here 1\n",
      "Image.normalizedDifference: No band named 'B8'. Available band names: [].--7--2018\n",
      "here 1\n",
      "Image.normalizedDifference: No band named 'B8'. Available band names: [].--8--2018\n",
      "here 1\n",
      "Image.normalizedDifference: No band named 'B8'. Available band names: [].--9--2018\n",
      "here 1\n",
      "Image.normalizedDifference: No band named 'B8'. Available band names: [].--10--2018\n",
      "here 1\n",
      "Image.normalizedDifference: No band named 'B8'. Available band names: [].--11--2018\n",
      "here 1\n",
      "here 2\n",
      "here 1\n",
      "here 2\n",
      "here 1\n",
      "here 2\n",
      "here 1\n",
      "here 2\n",
      "here 1\n",
      "here 2\n",
      "here 1\n",
      "here 2\n",
      "here 1\n",
      "here 2\n",
      "here 1\n",
      "Image.normalizedDifference: No band named 'B8'. Available band names: [].--7--2019\n",
      "here 1\n",
      "Image.normalizedDifference: No band named 'B8'. Available band names: [].--8--2019\n",
      "here 1\n",
      "Image.normalizedDifference: No band named 'B8'. Available band names: [].--9--2019\n",
      "here 1\n",
      "Image.normalizedDifference: No band named 'B8'. Available band names: [].--10--2019\n",
      "here 1\n",
      "here 2\n",
      "here 1\n",
      "here 2\n",
      "here 1\n",
      "here 2\n",
      "here 1\n",
      "here 2\n",
      "here 1\n",
      "here 2\n",
      "here 1\n",
      "here 2\n",
      "here 1\n",
      "here 2\n",
      "here 1\n",
      "Image.normalizedDifference: No band named 'B8'. Available band names: [].--6--2020\n",
      "here 1\n",
      "Image.normalizedDifference: No band named 'B8'. Available band names: [].--7--2020\n",
      "here 1\n",
      "Image.normalizedDifference: No band named 'B8'. Available band names: [].--8--2020\n",
      "here 1\n",
      "Image.normalizedDifference: No band named 'B8'. Available band names: [].--9--2020\n",
      "here 1\n",
      "here 2\n",
      "here 1\n",
      "here 2\n",
      "here 1\n",
      "here 2\n",
      "here 1\n",
      "here 2\n",
      "here 1\n",
      "here 2\n",
      "here 1\n",
      "here 2\n",
      "here 1\n",
      "here 2\n",
      "here 1\n",
      "here 2\n",
      "here 1\n",
      "Image.normalizedDifference: No band named 'B8'. Available band names: [].--6--2021\n",
      "here 1\n",
      "Image.normalizedDifference: No band named 'B8'. Available band names: [].--7--2021\n",
      "here 1\n",
      "Image.normalizedDifference: No band named 'B8'. Available band names: [].--8--2021\n",
      "here 1\n",
      "Image.normalizedDifference: No band named 'B8'. Available band names: [].--9--2021\n",
      "here 1\n",
      "here 2\n",
      "here 1\n",
      "here 2\n",
      "here 1\n",
      "here 2\n",
      "Run successful.\n"
     ]
    }
   ],
   "source": [
    "import ee\n",
    "import pandas as pd\n",
    "import matplotlib.pyplot as plt\n",
    "\n",
    "try:\n",
    "    ee.Initialize()\n",
    "except ee.EEException:\n",
    "    ee.Authenticate()\n",
    "    ee.Initialize()\n",
    "finally:\n",
    "    print(\"INFO : Earth Engine Initialized.\")\n",
    "\n",
    "\n",
    "def area_calc(img):\n",
    "    areaImage = img.multiply(ee.Image.pixelArea())\n",
    "    area = areaImage.reduceRegion(reducer=ee.Reducer.sum(), geometry=aoi, scale=500, maxPixels=1e10)\n",
    "    area_cover = ee.Number(area.get(\"nd\")).divide(1e6).round().getInfo()\n",
    "    return area_cover\n",
    "\n",
    "\n",
    "dict_collec = ee.FeatureCollection(\"users/sairamg581/ap_districts\")\n",
    "dict_feature = dict_collec.filter(\"DISTRICT == 'East Godavari'\")\n",
    "aoi = dict_feature.geometry()\n",
    "\n",
    "# Map.addLayer(aoi, {}, 'AOI')\n",
    "DistArea = ee.Number(aoi.area()).divide(1e6).round().getInfo()\n",
    "print(\"Area of East Godavari District :\", DistArea, \"Sq.Kms\")\n",
    "\n",
    "# Define the visualization parameters.\n",
    "vizParams = {\"bands\": [\"B4\", \"B3\", \"B2\"], \"min\": 0.0, \"max\": 4000}\n",
    "ndviParams = {\"min\": -1, \"max\": 1, \"palette\": [\"yellow\", \"white\", \"green\"]}\n",
    "ndwiParams = {\"min\": -1, \"max\": 1, \"palette\": [\"red\", \"green\", \"blue\"]}\n",
    "\n",
    "data = {\"date\": [], \"veg_area\": [], \"wet_area\": []}\n",
    "\n",
    "for year in range(2018, 2022):\n",
    "    for month in range(1, 13):\n",
    "        image = (\n",
    "            ee.ImageCollection(\"COPERNICUS/S2_SR\")\n",
    "            .filterBounds(aoi)\n",
    "            .filterDate(ee.Date(f\"{year}-{month}-01\"), ee.Date(f\"{year}-{month}-28\"))\n",
    "            .filter(ee.Filter.lt(\"CLOUDY_PIXEL_PERCENTAGE\", 5))\n",
    "            .mean()\n",
    "            .clip(aoi)\n",
    "        )\n",
    "        try:\n",
    "            ndvi = image.normalizedDifference([\"B8\", \"B4\"])\n",
    "            ndwi = image.normalizedDifference([\"B3\", \"B8\"])\n",
    "\n",
    "            vegetation = ndvi.gt(0.45).selfMask()\n",
    "            wet_land = ndwi.gt(0).selfMask()\n",
    "            print('here 1')\n",
    "\n",
    "            date = \"-\".join([str(month), str(year)])\n",
    "            veg_area = area_calc(vegetation)\n",
    "            wet_area = area_calc(wet_land)\n",
    "\n",
    "            data[\"date\"].append(\"-\".join([str(month), str(year)]))\n",
    "            data[\"veg_area\"].append(veg_area)\n",
    "            data[\"wet_area\"].append(wet_area)\n",
    "        \n",
    "            images.append(vegetation)\n",
    "            print('here 2')\n",
    "\n",
    "        except Exception as e:\n",
    "            print(e, month, year, sep=\"--\")\n",
    "data = pd.DataFrame(data)\n",
    "data[\"date\"] = pd.to_datetime(data[\"date\"])\n",
    "data = data.set_index(\"date\")\n",
    "\n",
    "print(\"Run successful.\")\n"
   ]
  },
  {
   "cell_type": "code",
   "execution_count": 11,
   "metadata": {},
   "outputs": [
    {
     "data": {
      "text/html": [
       "<div>\n",
       "<style scoped>\n",
       "    .dataframe tbody tr th:only-of-type {\n",
       "        vertical-align: middle;\n",
       "    }\n",
       "\n",
       "    .dataframe tbody tr th {\n",
       "        vertical-align: top;\n",
       "    }\n",
       "\n",
       "    .dataframe thead th {\n",
       "        text-align: right;\n",
       "    }\n",
       "</style>\n",
       "<table border=\"1\" class=\"dataframe\">\n",
       "  <thead>\n",
       "    <tr style=\"text-align: right;\">\n",
       "      <th></th>\n",
       "      <th>veg_area</th>\n",
       "      <th>wet_area</th>\n",
       "    </tr>\n",
       "    <tr>\n",
       "      <th>date</th>\n",
       "      <th></th>\n",
       "      <th></th>\n",
       "    </tr>\n",
       "  </thead>\n",
       "  <tbody>\n",
       "    <tr>\n",
       "      <th>2018-12-01</th>\n",
       "      <td>2118</td>\n",
       "      <td>111</td>\n",
       "    </tr>\n",
       "    <tr>\n",
       "      <th>2019-01-01</th>\n",
       "      <td>6792</td>\n",
       "      <td>316</td>\n",
       "    </tr>\n",
       "    <tr>\n",
       "      <th>2019-02-01</th>\n",
       "      <td>8110</td>\n",
       "      <td>306</td>\n",
       "    </tr>\n",
       "    <tr>\n",
       "      <th>2019-03-01</th>\n",
       "      <td>7350</td>\n",
       "      <td>269</td>\n",
       "    </tr>\n",
       "    <tr>\n",
       "      <th>2019-04-01</th>\n",
       "      <td>5693</td>\n",
       "      <td>264</td>\n",
       "    </tr>\n",
       "    <tr>\n",
       "      <th>2019-05-01</th>\n",
       "      <td>3924</td>\n",
       "      <td>293</td>\n",
       "    </tr>\n",
       "    <tr>\n",
       "      <th>2019-06-01</th>\n",
       "      <td>2785</td>\n",
       "      <td>18</td>\n",
       "    </tr>\n",
       "    <tr>\n",
       "      <th>2019-11-01</th>\n",
       "      <td>5934</td>\n",
       "      <td>98</td>\n",
       "    </tr>\n",
       "    <tr>\n",
       "      <th>2019-12-01</th>\n",
       "      <td>7116</td>\n",
       "      <td>330</td>\n",
       "    </tr>\n",
       "    <tr>\n",
       "      <th>2020-01-01</th>\n",
       "      <td>7435</td>\n",
       "      <td>319</td>\n",
       "    </tr>\n",
       "    <tr>\n",
       "      <th>2020-02-01</th>\n",
       "      <td>7616</td>\n",
       "      <td>165</td>\n",
       "    </tr>\n",
       "    <tr>\n",
       "      <th>2020-03-01</th>\n",
       "      <td>7393</td>\n",
       "      <td>292</td>\n",
       "    </tr>\n",
       "    <tr>\n",
       "      <th>2020-04-01</th>\n",
       "      <td>6978</td>\n",
       "      <td>266</td>\n",
       "    </tr>\n",
       "    <tr>\n",
       "      <th>2020-05-01</th>\n",
       "      <td>3</td>\n",
       "      <td>0</td>\n",
       "    </tr>\n",
       "    <tr>\n",
       "      <th>2020-10-01</th>\n",
       "      <td>3795</td>\n",
       "      <td>52</td>\n",
       "    </tr>\n",
       "    <tr>\n",
       "      <th>2020-11-01</th>\n",
       "      <td>9496</td>\n",
       "      <td>374</td>\n",
       "    </tr>\n",
       "    <tr>\n",
       "      <th>2020-12-01</th>\n",
       "      <td>6904</td>\n",
       "      <td>339</td>\n",
       "    </tr>\n",
       "    <tr>\n",
       "      <th>2021-01-01</th>\n",
       "      <td>6695</td>\n",
       "      <td>346</td>\n",
       "    </tr>\n",
       "    <tr>\n",
       "      <th>2021-02-01</th>\n",
       "      <td>8744</td>\n",
       "      <td>303</td>\n",
       "    </tr>\n",
       "    <tr>\n",
       "      <th>2021-03-01</th>\n",
       "      <td>6885</td>\n",
       "      <td>279</td>\n",
       "    </tr>\n",
       "    <tr>\n",
       "      <th>2021-04-01</th>\n",
       "      <td>6863</td>\n",
       "      <td>261</td>\n",
       "    </tr>\n",
       "    <tr>\n",
       "      <th>2021-05-01</th>\n",
       "      <td>3124</td>\n",
       "      <td>18</td>\n",
       "    </tr>\n",
       "    <tr>\n",
       "      <th>2021-10-01</th>\n",
       "      <td>8654</td>\n",
       "      <td>304</td>\n",
       "    </tr>\n",
       "    <tr>\n",
       "      <th>2021-11-01</th>\n",
       "      <td>4655</td>\n",
       "      <td>285</td>\n",
       "    </tr>\n",
       "    <tr>\n",
       "      <th>2021-12-01</th>\n",
       "      <td>7013</td>\n",
       "      <td>356</td>\n",
       "    </tr>\n",
       "  </tbody>\n",
       "</table>\n",
       "</div>"
      ],
      "text/plain": [
       "            veg_area  wet_area\n",
       "date                          \n",
       "2018-12-01      2118       111\n",
       "2019-01-01      6792       316\n",
       "2019-02-01      8110       306\n",
       "2019-03-01      7350       269\n",
       "2019-04-01      5693       264\n",
       "2019-05-01      3924       293\n",
       "2019-06-01      2785        18\n",
       "2019-11-01      5934        98\n",
       "2019-12-01      7116       330\n",
       "2020-01-01      7435       319\n",
       "2020-02-01      7616       165\n",
       "2020-03-01      7393       292\n",
       "2020-04-01      6978       266\n",
       "2020-05-01         3         0\n",
       "2020-10-01      3795        52\n",
       "2020-11-01      9496       374\n",
       "2020-12-01      6904       339\n",
       "2021-01-01      6695       346\n",
       "2021-02-01      8744       303\n",
       "2021-03-01      6885       279\n",
       "2021-04-01      6863       261\n",
       "2021-05-01      3124        18\n",
       "2021-10-01      8654       304\n",
       "2021-11-01      4655       285\n",
       "2021-12-01      7013       356"
      ]
     },
     "execution_count": 11,
     "metadata": {},
     "output_type": "execute_result"
    }
   ],
   "source": [
    "data"
   ]
  },
  {
   "cell_type": "code",
   "execution_count": 93,
   "metadata": {},
   "outputs": [
    {
     "data": {
      "image/png": "[encoded data removed]",
      "text/plain": [
       "<Figure size 648x288 with 1 Axes>"
      ]
     },
     "metadata": {
      "needs_background": "light"
     },
     "output_type": "display_data"
    }
   ],
   "source": [
    "steps = int(len(data)/2)\n",
    "data_train = data[:-steps]\n",
    "data_test  = data[-steps:]\n",
    "\n",
    "fig, ax=plt.subplots(figsize=(9, 4))\n",
    "data_train['wet_area'].plot(ax=ax, label='train')\n",
    "data_test['wet_area'].plot(ax=ax, label='test')\n",
    "ax.legend();"
   ]
  },
  {
   "cell_type": "code",
   "execution_count": 94,
   "metadata": {},
   "outputs": [
    {
     "data": {
      "text/plain": [
       "================= \n",
       "ForecasterAutoreg \n",
       "================= \n",
       "Regressor: RandomForestRegressor(random_state=123) \n",
       "Lags: [1 2 3 4 5 6] \n",
       "Window size: 6 \n",
       "Included exogenous: False \n",
       "Type of exogenous variable: None \n",
       "Exogenous variables names: None \n",
       "Training range: [0, 12] \n",
       "Training index type: RangeIndex \n",
       "Training index frequency: 1 \n",
       "Regressor parameters: {'bootstrap': True, 'ccp_alpha': 0.0, 'criterion': 'squared_error', 'max_depth': None, 'max_features': 'auto', 'max_leaf_nodes': None, 'max_samples': None, 'min_impurity_decrease': 0.0, 'min_samples_leaf': 1, 'min_samples_split': 2, 'min_weight_fraction_leaf': 0.0, 'n_estimators': 100, 'n_jobs': None, 'oob_score': False, 'random_state': 123, 'verbose': 0, 'warm_start': False} \n",
       "Creation date: 2022-03-28 15:59:15 \n",
       "Last fit date: 2022-03-28 15:59:15 \n",
       "Skforecast version: 0.4.1 "
      ]
     },
     "execution_count": 94,
     "metadata": {},
     "output_type": "execute_result"
    }
   ],
   "source": [
    "forecaster = ForecasterAutoreg(\n",
    "                regressor = RandomForestRegressor(random_state=123),\n",
    "                lags = 6\n",
    "                )\n",
    "\n",
    "forecaster.fit(y=data_train['wet_area'])\n",
    "forecaster"
   ]
  },
  {
   "cell_type": "code",
   "execution_count": 95,
   "metadata": {},
   "outputs": [
    {
     "data": {
      "text/plain": [
       "date\n",
       "2020-05-01     86.16\n",
       "2020-10-01    122.08\n",
       "2020-11-01    270.88\n",
       "2020-12-01    150.07\n",
       "2021-01-01    252.56\n",
       "2021-02-01    260.81\n",
       "2021-03-01    234.49\n",
       "2021-04-01    234.98\n",
       "2021-05-01    253.34\n",
       "2021-10-01    235.92\n",
       "2021-11-01    244.02\n",
       "2021-12-01    245.03\n",
       "Name: pred, dtype: float64"
      ]
     },
     "execution_count": 95,
     "metadata": {},
     "output_type": "execute_result"
    }
   ],
   "source": [
    "predictions = forecaster.predict(steps=steps)\n",
    "predictions.index=data[-steps:].index\n",
    "predictions"
   ]
  },
  {
   "cell_type": "code",
   "execution_count": 96,
   "metadata": {},
   "outputs": [
    {
     "data": {
      "text/plain": [
       "DatetimeIndex(['2020-05-01', '2020-10-01', '2020-11-01', '2020-12-01',\n",
       "               '2021-01-01', '2021-02-01', '2021-03-01', '2021-04-01',\n",
       "               '2021-05-01', '2021-10-01', '2021-11-01', '2021-12-01'],\n",
       "              dtype='datetime64[ns]', name='date', freq=None)"
      ]
     },
     "execution_count": 96,
     "metadata": {},
     "output_type": "execute_result"
    }
   ],
   "source": [
    "data[-steps:].index"
   ]
  },
  {
   "cell_type": "code",
   "execution_count": 97,
   "metadata": {},
   "outputs": [
    {
     "data": {
      "image/png": "[encoded data removed]",
      "text/plain": [
       "<Figure size 648x288 with 1 Axes>"
      ]
     },
     "metadata": {
      "needs_background": "light"
     },
     "output_type": "display_data"
    }
   ],
   "source": [
    "fig, ax = plt.subplots(figsize=(9, 4))\n",
    "data_train['wet_area'].plot(ax=ax, label='train')\n",
    "data_test['wet_area'].plot(ax=ax, label='test')\n",
    "predictions.plot(ax=ax, label='predictions')\n",
    "ax.legend();"
   ]
  },
  {
   "cell_type": "code",
   "execution_count": 92,
   "metadata": {},
   "outputs": [
    {
     "name": "stdout",
     "output_type": "stream",
     "text": [
      "Test error (mse): 12153.812066666667\n"
     ]
    }
   ],
   "source": [
    "error_mse = mean_squared_error(\n",
    "                y_true = data_test['wet_area'],\n",
    "                y_pred = predictions\n",
    "                )\n",
    "print(f\"Test error (mse): {error_mse}\")"
   ]
  },
  {
   "cell_type": "code",
   "execution_count": null,
   "metadata": {},
   "outputs": [],
   "source": [
    "col = ee.ImageCollection(images)"
   ]
  },
  {
   "cell_type": "code",
   "execution_count": null,
   "metadata": {},
   "outputs": [],
   "source": [
    "vegetation.getInfo()"
   ]
  },
  {
   "cell_type": "code",
   "execution_count": null,
   "metadata": {},
   "outputs": [],
   "source": [
    "len(images)"
   ]
  },
  {
   "cell_type": "code",
   "execution_count": null,
   "metadata": {},
   "outputs": [],
   "source": [
    "import requests"
   ]
  },
  {
   "cell_type": "code",
   "execution_count": null,
   "metadata": {},
   "outputs": [],
   "source": [
    "url='https://earthengine.googleapis.com/v1alpha/projects/earthengine-legacy/videoThumbnails/b6d5322d1dfd9384e93cdb50d53fb3f6-e470fd1452a3ab7fb045c97075379d20:getPixels'\n",
    "with open('./static/zeta.gif', 'wb') as f:\n",
    "    f.write(requests.get(url).content)"
   ]
  },
  {
   "cell_type": "code",
   "execution_count": null,
   "metadata": {},
   "outputs": [],
   "source": [
    "open('./zeta.gif', \"w\").write(requests.get(r'https://earthengine.googleapis.com/v1alpha/projects/earthengine-legacy/videoThumbnails/b6d5322d1dfd9384e93cdb50d53fb3f6-e470fd1452a3ab7fb045c97075379d20:getPixels').content)"
   ]
  },
  {
   "cell_type": "code",
   "execution_count": null,
   "metadata": {},
   "outputs": [],
   "source": [
    "video_args = {\n",
    "  'dimensions': 500,\n",
    "  'region': aoi,\n",
    "  'crs': 'EPSG:3857',\n",
    "  'bands':['nd'],\n",
    "  'palette': 'green'\n",
    "}\n",
    "\n",
    "# Get URL that will produce the animation when accessed.\n",
    "col.getVideoThumbURL(video_args)"
   ]
  },
  {
   "cell_type": "code",
   "execution_count": null,
   "metadata": {},
   "outputs": [],
   "source": [
    "data"
   ]
  },
  {
   "cell_type": "code",
   "execution_count": null,
   "metadata": {},
   "outputs": [],
   "source": [
    "data.index[-1].month_name()"
   ]
  },
  {
   "cell_type": "code",
   "execution_count": null,
   "metadata": {},
   "outputs": [],
   "source": [
    "vegetation"
   ]
  },
  {
   "cell_type": "code",
   "execution_count": null,
   "metadata": {},
   "outputs": [],
   "source": [
    "import geemap"
   ]
  },
  {
   "cell_type": "code",
   "execution_count": null,
   "metadata": {},
   "outputs": [],
   "source": [
    "Map = geemap.Map()  # Add Google Satellite\n",
    "Map.setCenter(82.5, 17.2, zoom=8.5)\n",
    "Map"
   ]
  },
  {
   "cell_type": "code",
   "execution_count": null,
   "metadata": {},
   "outputs": [],
   "source": [
    "Map.addLayer(vegetation, {'palette': 'green'}, 'Vegetation')"
   ]
  },
  {
   "cell_type": "code",
   "execution_count": null,
   "metadata": {},
   "outputs": [],
   "source": [
    "Map.to_image(outfile=\"./zeta.png\", monitor=1)"
   ]
  },
  {
   "cell_type": "code",
   "execution_count": null,
   "metadata": {},
   "outputs": [],
   "source": [
    "Map.to_html(outfile=\"./zeta.html\", title='My Map', width='100%', height='880px')"
   ]
  }
 ],
 "metadata": {
  "colab": {
   "authorship_tag": "ABX9TyNMP+xy5fN2g0XWqR+KezJG",
   "collapsed_sections": [],
   "include_colab_link": true,
   "name": "beta-veg",
   "provenance": []
  },
  "kernelspec": {
   "display_name": "Python 3 (ipykernel)",
   "language": "python",
   "name": "python3"
  },
  "language_info": {
   "codemirror_mode": {
    "name": "ipython",
    "version": 3
   },
   "file_extension": ".py",
   "mimetype": "text/x-python",
   "name": "python",
   "nbconvert_exporter": "python",
   "pygments_lexer": "ipython3",
   "version": "3.9.7"
  },
  "widgets": {
   "application/vnd.jupyter.widget-state+json": {
    "062c699d12144c3eb91b8989737f3083": {
     "model_module": "jupyter-leaflet",
     "model_module_version": "^0.15.0",
     "model_name": "LeafletFullScreenControlModel",
     "state": {
      "_model_module": "jupyter-leaflet",
      "_model_module_version": "^0.15.0",
      "_model_name": "LeafletFullScreenControlModel",
      "_view_count": null,
      "_view_module": "jupyter-leaflet",
      "_view_module_version": "^0.15.0",
      "_view_name": "LeafletFullScreenControlView",
      "options": [
       "position"
      ],
      "position": "topleft"
     }
    },
    "089604789abd4cb1b1efc9edd92b674a": {
     "model_module": "@jupyter-widgets/base",
     "model_module_version": "1.2.0",
     "model_name": "LayoutModel",
     "state": {
      "_model_module": "@jupyter-widgets/base",
      "_model_module_version": "1.2.0",
      "_model_name": "LayoutModel",
      "_view_count": null,
      "_view_module": "@jupyter-widgets/base",
      "_view_module_version": "1.2.0",
      "_view_name": "LayoutView",
      "align_content": null,
      "align_items": null,
      "align_self": null,
      "border": null,
      "bottom": null,
      "display": null,
      "flex": null,
      "flex_flow": null,
      "grid_area": null,
      "grid_auto_columns": null,
      "grid_auto_flow": null,
      "grid_auto_rows": null,
      "grid_column": null,
      "grid_gap": null,
      "grid_row": null,
      "grid_template_areas": null,
      "grid_template_columns": null,
      "grid_template_rows": null,
      "height": "28px",
      "justify_content": null,
      "justify_items": null,
      "left": null,
      "margin": null,
      "max_height": null,
      "max_width": null,
      "min_height": null,
      "min_width": null,
      "object_fit": null,
      "object_position": null,
      "order": null,
      "overflow": null,
      "overflow_x": null,
      "overflow_y": null,
      "padding": "0px 0px 0px 4px",
      "right": null,
      "top": null,
      "visibility": null,
      "width": "28px"
     }
    },
    "10a7621462dd41a7a4be8b7406f148e0": {
     "model_module": "@jupyter-widgets/base",
     "model_module_version": "1.2.0",
     "model_name": "LayoutModel",
     "state": {
      "_model_module": "@jupyter-widgets/base",
      "_model_module_version": "1.2.0",
      "_model_name": "LayoutModel",
      "_view_count": null,
      "_view_module": "@jupyter-widgets/base",
      "_view_module_version": "1.2.0",
      "_view_name": "LayoutView",
      "align_content": null,
      "align_items": null,
      "align_self": null,
      "border": null,
      "bottom": null,
      "display": null,
      "flex": null,
      "flex_flow": null,
      "grid_area": null,
      "grid_auto_columns": null,
      "grid_auto_flow": null,
      "grid_auto_rows": null,
      "grid_column": null,
      "grid_gap": null,
      "grid_row": null,
      "grid_template_areas": null,
      "grid_template_columns": null,
      "grid_template_rows": null,
      "height": "600px",
      "justify_content": null,
      "justify_items": null,
      "left": null,
      "margin": null,
      "max_height": null,
      "max_width": null,
      "min_height": null,
      "min_width": null,
      "object_fit": null,
      "object_position": null,
      "order": null,
      "overflow": null,
      "overflow_x": null,
      "overflow_y": null,
      "padding": null,
      "right": null,
      "top": null,
      "visibility": null,
      "width": null
     }
    },
    "15cbf94fe061402b916262b90226b39f": {
     "model_module": "jupyter-leaflet",
     "model_module_version": "^0.15.0",
     "model_name": "LeafletZoomControlModel",
     "state": {
      "_model_module": "jupyter-leaflet",
      "_model_module_version": "^0.15.0",
      "_model_name": "LeafletZoomControlModel",
      "_view_count": null,
      "_view_module": "jupyter-leaflet",
      "_view_module_version": "^0.15.0",
      "_view_name": "LeafletZoomControlView",
      "options": [
       "position",
       "zoom_in_text",
       "zoom_in_title",
       "zoom_out_text",
       "zoom_out_title"
      ],
      "position": "topleft",
      "zoom_in_text": "+",
      "zoom_in_title": "Zoom in",
      "zoom_out_text": "-",
      "zoom_out_title": "Zoom out"
     }
    },
    "1dc413d3962e42ea896d17b8598a0757": {
     "model_module": "jupyter-leaflet",
     "model_module_version": "^0.15.0",
     "model_name": "LeafletMapStyleModel",
     "state": {
      "_model_module": "jupyter-leaflet",
      "_model_module_version": "^0.15.0",
      "_model_name": "LeafletMapStyleModel",
      "_view_count": null,
      "_view_module": "@jupyter-widgets/base",
      "_view_module_version": "1.2.0",
      "_view_name": "StyleView",
      "cursor": "grab"
     }
    },
    "1febe3b43c32401baf5f845337aeac56": {
     "model_module": "jupyter-leaflet",
     "model_module_version": "^0.15.0",
     "model_name": "LeafletDrawControlModel",
     "state": {
      "_model_module": "jupyter-leaflet",
      "_model_module_version": "^0.15.0",
      "_model_name": "LeafletDrawControlModel",
      "_view_count": null,
      "_view_module": "jupyter-leaflet",
      "_view_module_version": "^0.15.0",
      "_view_name": "LeafletDrawControlView",
      "circle": {
       "shapeOptions": {
        "color": "#3388ff"
       }
      },
      "circlemarker": {},
      "data": [],
      "edit": true,
      "marker": {
       "shapeOptions": {
        "color": "#3388ff"
       }
      },
      "options": [
       "position"
      ],
      "polygon": {
       "shapeOptions": {}
      },
      "polyline": {
       "shapeOptions": {}
      },
      "position": "topleft",
      "rectangle": {
       "shapeOptions": {
        "color": "#3388ff"
       }
      },
      "remove": true
     }
    },
    "218db77e4af04cb8929ce84b4d058c8f": {
     "model_module": "@jupyter-widgets/base",
     "model_module_version": "1.2.0",
     "model_name": "LayoutModel",
     "state": {
      "_model_module": "@jupyter-widgets/base",
      "_model_module_version": "1.2.0",
      "_model_name": "LayoutModel",
      "_view_count": null,
      "_view_module": "@jupyter-widgets/base",
      "_view_module_version": "1.2.0",
      "_view_name": "LayoutView",
      "align_content": null,
      "align_items": null,
      "align_self": null,
      "border": null,
      "bottom": null,
      "display": null,
      "flex": null,
      "flex_flow": null,
      "grid_area": null,
      "grid_auto_columns": null,
      "grid_auto_flow": null,
      "grid_auto_rows": null,
      "grid_column": null,
      "grid_gap": null,
      "grid_row": null,
      "grid_template_areas": null,
      "grid_template_columns": null,
      "grid_template_rows": null,
      "height": null,
      "justify_content": null,
      "justify_items": null,
      "left": null,
      "margin": null,
      "max_height": null,
      "max_width": null,
      "min_height": null,
      "min_width": null,
      "object_fit": null,
      "object_position": null,
      "order": null,
      "overflow": null,
      "overflow_x": null,
      "overflow_y": null,
      "padding": null,
      "right": null,
      "top": null,
      "visibility": null,
      "width": null
     }
    },
    "249c4ed170004eaf833c489e4a01b142": {
     "model_module": "jupyter-leaflet",
     "model_module_version": "^0.15.0",
     "model_name": "LeafletWidgetControlModel",
     "state": {
      "_model_module": "jupyter-leaflet",
      "_model_module_version": "^0.15.0",
      "_model_name": "LeafletWidgetControlModel",
      "_view_count": null,
      "_view_module": "jupyter-leaflet",
      "_view_module_version": "^0.15.0",
      "_view_name": "LeafletWidgetControlView",
      "max_height": null,
      "max_width": null,
      "min_height": null,
      "min_width": null,
      "options": [
       "position",
       "transparent_bg"
      ],
      "position": "topleft",
      "transparent_bg": false,
      "widget": "IPY_MODEL_5de4daf3a0484b3dbd353c35f4260efb"
     }
    },
    "27c9b415634b4c67a4e48c38d56aa3c0": {
     "model_module": "@jupyter-widgets/base",
     "model_module_version": "1.2.0",
     "model_name": "LayoutModel",
     "state": {
      "_model_module": "@jupyter-widgets/base",
      "_model_module_version": "1.2.0",
      "_model_name": "LayoutModel",
      "_view_count": null,
      "_view_module": "@jupyter-widgets/base",
      "_view_module_version": "1.2.0",
      "_view_name": "LayoutView",
      "align_content": null,
      "align_items": null,
      "align_self": null,
      "border": null,
      "bottom": null,
      "display": null,
      "flex": null,
      "flex_flow": null,
      "grid_area": null,
      "grid_auto_columns": null,
      "grid_auto_flow": null,
      "grid_auto_rows": null,
      "grid_column": null,
      "grid_gap": null,
      "grid_row": null,
      "grid_template_areas": null,
      "grid_template_columns": null,
      "grid_template_rows": null,
      "height": null,
      "justify_content": null,
      "justify_items": null,
      "left": null,
      "margin": null,
      "max_height": null,
      "max_width": null,
      "min_height": null,
      "min_width": null,
      "object_fit": null,
      "object_position": null,
      "order": null,
      "overflow": null,
      "overflow_x": null,
      "overflow_y": null,
      "padding": null,
      "right": null,
      "top": null,
      "visibility": null,
      "width": null
     }
    },
    "2bd55ea6d10445e4b049fa6017d561dc": {
     "model_module": "jupyter-leaflet",
     "model_module_version": "^0.15.0",
     "model_name": "LeafletMapStyleModel",
     "state": {
      "_model_module": "jupyter-leaflet",
      "_model_module_version": "^0.15.0",
      "_model_name": "LeafletMapStyleModel",
      "_view_count": null,
      "_view_module": "@jupyter-widgets/base",
      "_view_module_version": "1.2.0",
      "_view_name": "StyleView",
      "cursor": "grab"
     }
    },
    "2cd6a7f7af694bf78d76869e430c8faf": {
     "model_module": "@jupyter-widgets/controls",
     "model_module_version": "1.5.0",
     "model_name": "DescriptionStyleModel",
     "state": {
      "_model_module": "@jupyter-widgets/controls",
      "_model_module_version": "1.5.0",
      "_model_name": "DescriptionStyleModel",
      "_view_count": null,
      "_view_module": "@jupyter-widgets/base",
      "_view_module_version": "1.2.0",
      "_view_name": "StyleView",
      "description_width": ""
     }
    },
    "37839b7aaddc44919524e127546177ea": {
     "model_module": "@jupyter-widgets/controls",
     "model_module_version": "1.5.0",
     "model_name": "ToggleButtonModel",
     "state": {
      "_dom_classes": [],
      "_model_module": "@jupyter-widgets/controls",
      "_model_module_version": "1.5.0",
      "_model_name": "ToggleButtonModel",
      "_view_count": null,
      "_view_module": "@jupyter-widgets/controls",
      "_view_module_version": "1.5.0",
      "_view_name": "ToggleButtonView",
      "button_style": "",
      "description": "",
      "description_tooltip": null,
      "disabled": false,
      "icon": "globe",
      "layout": "IPY_MODEL_4a72c42648a44a8f9802c6787f2f3a66",
      "style": "IPY_MODEL_5e2a88ee47434901af49aa04f41f66b4",
      "tooltip": "Search location/data",
      "value": false
     }
    },
    "3f1ebe1db64a460eb187c3602a30fad1": {
     "model_module": "jupyter-leaflet",
     "model_module_version": "^0.15.0",
     "model_name": "LeafletWidgetControlModel",
     "state": {
      "_model_module": "jupyter-leaflet",
      "_model_module_version": "^0.15.0",
      "_model_name": "LeafletWidgetControlModel",
      "_view_count": null,
      "_view_module": "jupyter-leaflet",
      "_view_module_version": "^0.15.0",
      "_view_name": "LeafletWidgetControlView",
      "max_height": null,
      "max_width": null,
      "min_height": null,
      "min_width": null,
      "options": [
       "position",
       "transparent_bg"
      ],
      "position": "topright",
      "transparent_bg": false,
      "widget": "IPY_MODEL_af466c219af846e6b6a419d169a18e37"
     }
    },
    "4a72c42648a44a8f9802c6787f2f3a66": {
     "model_module": "@jupyter-widgets/base",
     "model_module_version": "1.2.0",
     "model_name": "LayoutModel",
     "state": {
      "_model_module": "@jupyter-widgets/base",
      "_model_module_version": "1.2.0",
      "_model_name": "LayoutModel",
      "_view_count": null,
      "_view_module": "@jupyter-widgets/base",
      "_view_module_version": "1.2.0",
      "_view_name": "LayoutView",
      "align_content": null,
      "align_items": null,
      "align_self": null,
      "border": null,
      "bottom": null,
      "display": null,
      "flex": null,
      "flex_flow": null,
      "grid_area": null,
      "grid_auto_columns": null,
      "grid_auto_flow": null,
      "grid_auto_rows": null,
      "grid_column": null,
      "grid_gap": null,
      "grid_row": null,
      "grid_template_areas": null,
      "grid_template_columns": null,
      "grid_template_rows": null,
      "height": "28px",
      "justify_content": null,
      "justify_items": null,
      "left": null,
      "margin": null,
      "max_height": null,
      "max_width": null,
      "min_height": null,
      "min_width": null,
      "object_fit": null,
      "object_position": null,
      "order": null,
      "overflow": null,
      "overflow_x": null,
      "overflow_y": null,
      "padding": "0px 0px 0px 4px",
      "right": null,
      "top": null,
      "visibility": null,
      "width": "28px"
     }
    },
    "5de4daf3a0484b3dbd353c35f4260efb": {
     "model_module": "@jupyter-widgets/controls",
     "model_module_version": "1.5.0",
     "model_name": "HBoxModel",
     "state": {
      "_dom_classes": [],
      "_model_module": "@jupyter-widgets/controls",
      "_model_module_version": "1.5.0",
      "_model_name": "HBoxModel",
      "_view_count": null,
      "_view_module": "@jupyter-widgets/controls",
      "_view_module_version": "1.5.0",
      "_view_name": "HBoxView",
      "box_style": "",
      "children": [
       "IPY_MODEL_37839b7aaddc44919524e127546177ea"
      ],
      "layout": "IPY_MODEL_218db77e4af04cb8929ce84b4d058c8f"
     }
    },
    "5e2a88ee47434901af49aa04f41f66b4": {
     "model_module": "@jupyter-widgets/controls",
     "model_module_version": "1.5.0",
     "model_name": "DescriptionStyleModel",
     "state": {
      "_model_module": "@jupyter-widgets/controls",
      "_model_module_version": "1.5.0",
      "_model_name": "DescriptionStyleModel",
      "_view_count": null,
      "_view_module": "@jupyter-widgets/base",
      "_view_module_version": "1.2.0",
      "_view_name": "StyleView",
      "description_width": ""
     }
    },
    "6bb4ebea63ca48748fefd0ce3ebb286f": {
     "model_module": "jupyter-leaflet",
     "model_module_version": "^0.15.0",
     "model_name": "LeafletMeasureControlModel",
     "state": {
      "_custom_units": {},
      "_model_module": "jupyter-leaflet",
      "_model_module_version": "^0.15.0",
      "_model_name": "LeafletMeasureControlModel",
      "_view_count": null,
      "_view_module": "jupyter-leaflet",
      "_view_module_version": "^0.15.0",
      "_view_name": "LeafletMeasureControlView",
      "active_color": "orange",
      "capture_z_index": 10000,
      "completed_color": "#C8F2BE",
      "options": [
       "active_color",
       "capture_z_index",
       "completed_color",
       "popup_options",
       "position",
       "primary_area_unit",
       "primary_length_unit",
       "secondary_area_unit",
       "secondary_length_unit"
      ],
      "popup_options": {
       "autoPanPadding": [
        10,
        10
       ],
       "className": "leaflet-measure-resultpopup"
      },
      "position": "bottomleft",
      "primary_area_unit": "acres",
      "primary_length_unit": "kilometers",
      "secondary_area_unit": null,
      "secondary_length_unit": null
     }
    },
    "6f4c3a64ce124692831a39378cb0e233": {
     "model_module": "jupyter-leaflet",
     "model_module_version": "^0.15.0",
     "model_name": "LeafletMapStyleModel",
     "state": {
      "_model_module": "jupyter-leaflet",
      "_model_module_version": "^0.15.0",
      "_model_name": "LeafletMapStyleModel",
      "_view_count": null,
      "_view_module": "@jupyter-widgets/base",
      "_view_module_version": "1.2.0",
      "_view_name": "StyleView",
      "cursor": "move"
     }
    },
    "72650956087045e991c54a0da16f875d": {
     "model_module": "jupyter-leaflet",
     "model_module_version": "^0.15.0",
     "model_name": "LeafletAttributionControlModel",
     "state": {
      "_model_module": "jupyter-leaflet",
      "_model_module_version": "^0.15.0",
      "_model_name": "LeafletAttributionControlModel",
      "_view_count": null,
      "_view_module": "jupyter-leaflet",
      "_view_module_version": "^0.15.0",
      "_view_name": "LeafletAttributionControlView",
      "options": [
       "position",
       "prefix"
      ],
      "position": "bottomright",
      "prefix": "ipyleaflet"
     }
    },
    "92172ce03351453485499f66c289094e": {
     "model_module": "jupyter-leaflet",
     "model_module_version": "^0.15.0",
     "model_name": "LeafletTileLayerModel",
     "state": {
      "_model_module": "jupyter-leaflet",
      "_model_module_version": "^0.15.0",
      "_model_name": "LeafletTileLayerModel",
      "_view_count": null,
      "_view_module": "jupyter-leaflet",
      "_view_module_version": "^0.15.0",
      "_view_name": "LeafletTileLayerView",
      "attribution": "&copy; <a href=\"https://www.openstreetmap.org/copyright\">OpenStreetMap</a> contributors",
      "base": true,
      "bottom": true,
      "detect_retina": false,
      "loading": false,
      "max_native_zoom": 18,
      "max_zoom": 19,
      "min_native_zoom": 0,
      "min_zoom": 1,
      "name": "OpenStreetMap.Mapnik",
      "no_wrap": false,
      "opacity": 1,
      "options": [
       "attribution",
       "detect_retina",
       "max_native_zoom",
       "max_zoom",
       "min_native_zoom",
       "min_zoom",
       "no_wrap",
       "tile_size",
       "tms"
      ],
      "popup": null,
      "popup_max_height": null,
      "popup_max_width": 300,
      "popup_min_width": 50,
      "show_loading": false,
      "tile_size": 256,
      "tms": false,
      "url": "https://a.tile.openstreetmap.org/{z}/{x}/{y}.png",
      "visible": true
     }
    },
    "af466c219af846e6b6a419d169a18e37": {
     "model_module": "@jupyter-widgets/controls",
     "model_module_version": "1.5.0",
     "model_name": "VBoxModel",
     "state": {
      "_dom_classes": [],
      "_model_module": "@jupyter-widgets/controls",
      "_model_module_version": "1.5.0",
      "_model_name": "VBoxModel",
      "_view_count": null,
      "_view_module": "@jupyter-widgets/controls",
      "_view_module_version": "1.5.0",
      "_view_name": "VBoxView",
      "box_style": "",
      "children": [
       "IPY_MODEL_d9380672e39a4835885a5aca5385817e"
      ],
      "layout": "IPY_MODEL_27c9b415634b4c67a4e48c38d56aa3c0"
     }
    },
    "b02a59c945f64b0e9d15fdbf2f0e7572": {
     "model_module": "jupyter-leaflet",
     "model_module_version": "^0.15.0",
     "model_name": "LeafletScaleControlModel",
     "state": {
      "_model_module": "jupyter-leaflet",
      "_model_module_version": "^0.15.0",
      "_model_name": "LeafletScaleControlModel",
      "_view_count": null,
      "_view_module": "jupyter-leaflet",
      "_view_module_version": "^0.15.0",
      "_view_name": "LeafletScaleControlView",
      "imperial": true,
      "max_width": 100,
      "metric": true,
      "options": [
       "imperial",
       "max_width",
       "metric",
       "position",
       "update_when_idle"
      ],
      "position": "bottomleft",
      "update_when_idle": false
     }
    },
    "b250578f74e044adb81fcd2aff59f257": {
     "model_module": "jupyter-leaflet",
     "model_module_version": "^0.15.0",
     "model_name": "LeafletTileLayerModel",
     "state": {
      "_model_module": "jupyter-leaflet",
      "_model_module_version": "^0.15.0",
      "_model_name": "LeafletTileLayerModel",
      "_view_count": null,
      "_view_module": "jupyter-leaflet",
      "_view_module_version": "^0.15.0",
      "_view_name": "LeafletTileLayerView",
      "attribution": "Google Earth Engine",
      "base": false,
      "bottom": true,
      "detect_retina": false,
      "loading": false,
      "max_native_zoom": 18,
      "max_zoom": 24,
      "min_native_zoom": 0,
      "min_zoom": 0,
      "name": "Layer 3",
      "no_wrap": false,
      "opacity": 1,
      "options": [
       "attribution",
       "detect_retina",
       "max_native_zoom",
       "max_zoom",
       "min_native_zoom",
       "min_zoom",
       "no_wrap",
       "tile_size",
       "tms"
      ],
      "popup": null,
      "popup_max_height": null,
      "popup_max_width": 300,
      "popup_min_width": 50,
      "show_loading": false,
      "tile_size": 256,
      "tms": false,
      "url": "https://earthengine.googleapis.com/v1alpha/projects/earthengine-legacy/maps/db1543fc11ae6997555f1a47c14ca065-7a1fcdd2a4dfaf32469cd6b08750437e/tiles/{z}/{x}/{y}",
      "visible": true
     }
    },
    "d141693e21b547a7b6af6f327eb23c2c": {
     "model_module": "jupyter-leaflet",
     "model_module_version": "^0.15.0",
     "model_name": "LeafletTileLayerModel",
     "state": {
      "_model_module": "jupyter-leaflet",
      "_model_module_version": "^0.15.0",
      "_model_name": "LeafletTileLayerModel",
      "_view_count": null,
      "_view_module": "jupyter-leaflet",
      "_view_module_version": "^0.15.0",
      "_view_name": "LeafletTileLayerView",
      "attribution": "Google",
      "base": false,
      "bottom": true,
      "detect_retina": false,
      "loading": false,
      "max_native_zoom": 18,
      "max_zoom": 22,
      "min_native_zoom": 0,
      "min_zoom": 0,
      "name": "Google Maps",
      "no_wrap": false,
      "opacity": 1,
      "options": [
       "attribution",
       "detect_retina",
       "max_native_zoom",
       "max_zoom",
       "min_native_zoom",
       "min_zoom",
       "no_wrap",
       "tile_size",
       "tms"
      ],
      "popup": null,
      "popup_max_height": null,
      "popup_max_width": 300,
      "popup_min_width": 50,
      "show_loading": false,
      "tile_size": 256,
      "tms": false,
      "url": "https://mt1.google.com/vt/lyrs=m&x={x}&y={y}&z={z}",
      "visible": true
     }
    },
    "d9380672e39a4835885a5aca5385817e": {
     "model_module": "@jupyter-widgets/controls",
     "model_module_version": "1.5.0",
     "model_name": "ToggleButtonModel",
     "state": {
      "_dom_classes": [],
      "_model_module": "@jupyter-widgets/controls",
      "_model_module_version": "1.5.0",
      "_model_name": "ToggleButtonModel",
      "_view_count": null,
      "_view_module": "@jupyter-widgets/controls",
      "_view_module_version": "1.5.0",
      "_view_name": "ToggleButtonView",
      "button_style": "",
      "description": "",
      "description_tooltip": null,
      "disabled": false,
      "icon": "wrench",
      "layout": "IPY_MODEL_089604789abd4cb1b1efc9edd92b674a",
      "style": "IPY_MODEL_2cd6a7f7af694bf78d76869e430c8faf",
      "tooltip": "Toolbar",
      "value": false
     }
    },
    "f06cf7c90d3f4675b312b785863325a7": {
     "model_module": "jupyter-leaflet",
     "model_module_version": "^0.15.0",
     "model_name": "LeafletMapModel",
     "state": {
      "_dom_classes": [],
      "_dragging": false,
      "_model_module": "jupyter-leaflet",
      "_model_module_version": "^0.15.0",
      "_model_name": "LeafletMapModel",
      "_view_count": null,
      "_view_module": "jupyter-leaflet",
      "_view_module_version": "^0.15.0",
      "_view_name": "LeafletMapView",
      "bottom": 119103.99998474121,
      "bounce_at_zoom_limits": true,
      "box_zoom": true,
      "center": [
       16.60987393960457,
       81.5165605000697
      ],
      "close_popup_on_click": true,
      "controls": [
       "IPY_MODEL_249c4ed170004eaf833c489e4a01b142",
       "IPY_MODEL_15cbf94fe061402b916262b90226b39f",
       "IPY_MODEL_b02a59c945f64b0e9d15fdbf2f0e7572",
       "IPY_MODEL_062c699d12144c3eb91b8989737f3083",
       "IPY_MODEL_6bb4ebea63ca48748fefd0ce3ebb286f",
       "IPY_MODEL_72650956087045e991c54a0da16f875d",
       "IPY_MODEL_1febe3b43c32401baf5f845337aeac56",
       "IPY_MODEL_3f1ebe1db64a460eb187c3602a30fad1"
      ],
      "crs": {
       "custom": false,
       "name": "EPSG3857"
      },
      "default_style": "IPY_MODEL_2bd55ea6d10445e4b049fa6017d561dc",
      "double_click_zoom": true,
      "dragging": true,
      "dragging_style": "IPY_MODEL_6f4c3a64ce124692831a39378cb0e233",
      "east": 82.27873701374159,
      "fullscreen": false,
      "inertia": true,
      "inertia_deceleration": 3000,
      "inertia_max_speed": 1500,
      "interpolation": "bilinear",
      "keyboard": true,
      "keyboard_pan_offset": 80,
      "keyboard_zoom_offset": 1,
      "layers": [
       "IPY_MODEL_92172ce03351453485499f66c289094e",
       "IPY_MODEL_d141693e21b547a7b6af6f327eb23c2c",
       "IPY_MODEL_b250578f74e044adb81fcd2aff59f257"
      ],
      "layout": "IPY_MODEL_10a7621462dd41a7a4be8b7406f148e0",
      "left": 189875.54787702853,
      "max_zoom": 24,
      "min_zoom": 1,
      "modisdate": "2022-03-13",
      "north": 17.004261806329048,
      "options": [
       "bounce_at_zoom_limits",
       "box_zoom",
       "center",
       "close_popup_on_click",
       "double_click_zoom",
       "dragging",
       "fullscreen",
       "inertia",
       "inertia_deceleration",
       "inertia_max_speed",
       "interpolation",
       "keyboard",
       "keyboard_pan_offset",
       "keyboard_zoom_offset",
       "max_zoom",
       "min_zoom",
       "prefer_canvas",
       "scroll_wheel_zoom",
       "tap",
       "tap_tolerance",
       "touch_zoom",
       "world_copy_jump",
       "zoom",
       "zoom_animation_threshold",
       "zoom_delta",
       "zoom_snap",
       "zoom_start"
      ],
      "prefer_canvas": false,
      "right": 190985.54787702853,
      "scroll_wheel_zoom": true,
      "south": 16.214674608369773,
      "style": "IPY_MODEL_2bd55ea6d10445e4b049fa6017d561dc",
      "tap": true,
      "tap_tolerance": 15,
      "top": 118503.99998474121,
      "touch_zoom": true,
      "west": 80.75438398639783,
      "window_url": "https://4e6zjf856fr-496ff2e9c6d22116-0-colab.googleusercontent.com/outputframe.html?vrz=colab-20220310-060047-RC01_433765713",
      "world_copy_jump": false,
      "zoom": 10,
      "zoom_animation_threshold": 4,
      "zoom_delta": 1,
      "zoom_snap": 1,
      "zoom_start": 12
     }
    }
   }
  }
 },
 "nbformat": 4,
 "nbformat_minor": 4
}
